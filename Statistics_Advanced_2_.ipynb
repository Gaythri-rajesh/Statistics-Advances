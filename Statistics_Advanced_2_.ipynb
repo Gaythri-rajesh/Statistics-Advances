{
  "nbformat": 4,
  "nbformat_minor": 0,
  "metadata": {
    "colab": {
      "provenance": []
    },
    "kernelspec": {
      "name": "python3",
      "display_name": "Python 3"
    },
    "language_info": {
      "name": "python"
    }
  },
  "cells": [
    {
      "cell_type": "code",
      "execution_count": null,
      "metadata": {
        "id": "LvXo9MOlmH1f"
      },
      "outputs": [],
      "source": []
    },
    {
      "cell_type": "code",
      "source": [],
      "metadata": {
        "id": "tavZUbz-nWW1"
      },
      "execution_count": null,
      "outputs": []
    },
    {
      "cell_type": "markdown",
      "source": [
        "# Assignment\n",
        "\n",
        "1. What is hypothesis testing in statistics?\n",
        "\n",
        "-> Definition:\n",
        "Hypothesis testing is a statistical method used to make decisions or draw conclusions about a population parameter based on sample data. It evaluates whether there is enough evidence to support a specific claim or hypothesis.\n",
        "\n",
        "Key Concepts:\n",
        "\n",
        "Null Hypothesis (\n",
        "𝐻\n",
        "0\n",
        "H\n",
        "0\n",
        "​\n",
        " ) – The default assumption that there is no effect or no difference.\n",
        "\n",
        "Alternative Hypothesis (\n",
        "𝐻\n",
        "1\n",
        "H\n",
        "1\n",
        "​\n",
        "  or\n",
        "𝐻\n",
        "𝑎\n",
        "H\n",
        "a\n",
        "​\n",
        " ) – The statement we want to test for, indicating an effect or difference exists.\n",
        "\n",
        "Significance Level (\n",
        "𝛼\n",
        "α) – The probability of rejecting the null hypothesis when it is true, often set at 0.05 (5%).\n",
        "\n",
        "Test Statistic – A value calculated from the sample data (e.g., z-score, t-score) used to determine whether to reject\n",
        "𝐻\n",
        "0\n",
        "H\n",
        "0\n",
        "​\n",
        " .\n",
        "\n",
        "P-value – The probability of observing the data, or something more extreme, if\n",
        "𝐻\n",
        "0\n",
        "H\n",
        "0\n",
        "​\n",
        "  is true.\n",
        "\n",
        "Decision Rule – If the p-value ≤ α, reject\n",
        "𝐻\n",
        "0\n",
        "H\n",
        "0\n",
        "​\n",
        " ; otherwise, fail to reject\n",
        "𝐻\n",
        "0\n",
        "H\n",
        "0\n",
        "​\n",
        " .\n",
        "\n",
        "Steps in Hypothesis Testing:\n",
        "\n",
        "State\n",
        "𝐻\n",
        "0\n",
        "H\n",
        "0\n",
        "​\n",
        "  and\n",
        "𝐻\n",
        "𝑎\n",
        "H\n",
        "a\n",
        "​\n",
        " .\n",
        "\n",
        "Choose a significance level (α).\n",
        "\n",
        "Select the appropriate test (z-test, t-test, chi-square, etc.).\n",
        "\n",
        "Calculate the test statistic and p-value.\n",
        "\n",
        "Compare p-value with α and make a decision.\n",
        "\n",
        "Example:\n",
        "A company claims the average weight of its product is 500g. We take a sample and test whether the true mean differs from 500g.\n",
        "\n",
        "𝐻\n",
        "0\n",
        "H\n",
        "0\n",
        "​\n",
        " : μ = 500\n",
        "\n",
        "𝐻\n",
        "𝑎\n",
        "H\n",
        "a\n",
        "​\n",
        " : μ ≠ 500\n",
        "If the p-value is less than 0.05, we reject\n",
        "𝐻\n",
        "0\n",
        "H\n",
        "0\n",
        "​\n",
        "  and conclude the average weight is significantly different from 500g.\n",
        "\n",
        "2. What is the null hypothesis, and how does it differ from the alternative hypothesis?\n",
        "\n",
        "-> The Null Hypothesis (\n",
        "𝐻\n",
        "0\n",
        "H\n",
        "0\n",
        "​\n",
        " ) is the initial assumption in hypothesis testing that there is no significant difference, effect, or relationship in the population being studied. It represents the status quo or a position of no change, and is tested to determine if it can be rejected based on sample data. The null hypothesis is considered true until statistical evidence suggests otherwise. For example, if a company claims that the average lifetime of its batteries is 500 hours, the null hypothesis would be\n",
        "𝐻\n",
        "0\n",
        ":\n",
        "𝜇\n",
        "=\n",
        "500\n",
        "H\n",
        "0\n",
        "​\n",
        " :μ=500.\n",
        "\n",
        "The Alternative Hypothesis (\n",
        "𝐻\n",
        "𝑎\n",
        "H\n",
        "a\n",
        "​\n",
        " ) is a statement that directly contradicts the null hypothesis. It proposes that there is a significant difference, effect, or relationship in the population. The alternative hypothesis is accepted when the evidence from the sample data is strong enough to reject the null hypothesis. For example, continuing with the battery example, the alternative hypothesis could be\n",
        "𝐻\n",
        "𝑎\n",
        ":\n",
        "𝜇\n",
        "≠\n",
        "500\n",
        "H\n",
        "a\n",
        "​\n",
        " :μ\n",
        "\n",
        "=500 if we are testing for any difference, or\n",
        "𝐻\n",
        "𝑎\n",
        ":\n",
        "𝜇\n",
        ">\n",
        "500\n",
        "H\n",
        "a\n",
        "​\n",
        " :μ>500 if we are testing whether the lifetime is greater than 500 hours.\n",
        "\n",
        "In statistical testing, the decision to reject or fail to reject the null hypothesis is based on the probability of obtaining the observed results under the assumption that the null hypothesis is true. This probability is measured by the p-value, and a smaller p-value indicates stronger evidence against the null hypothesis.\n",
        "\n",
        "3. Explain the significance level in hypothesis testing and its role in deciding the outcome of a test.\n",
        "\n",
        "-> The significance level in hypothesis testing, denoted by\n",
        "𝛼\n",
        "α, is the threshold probability that defines the maximum risk of making a Type I error — rejecting the null hypothesis when it is actually true. In other words, it represents the probability of concluding that there is an effect or difference when none actually exists.\n",
        "\n",
        "Commonly used significance levels are 0.05 (5%), 0.01 (1%), or 0.10 (10%). For example, if\n",
        "𝛼\n",
        "=\n",
        "0.05\n",
        "α=0.05, it means we are willing to accept a 5% risk of incorrectly rejecting the null hypothesis.\n",
        "\n",
        "The significance level plays a critical role in determining the critical value(s) or rejection region for a statistical test. After calculating the test statistic (e.g., z-score, t-score), we compare it with the critical value corresponding to\n",
        "𝛼\n",
        "α.\n",
        "\n",
        "If the test statistic falls into the rejection region (or if the p-value ≤\n",
        "𝛼\n",
        "α), we reject the null hypothesis.\n",
        "\n",
        "If it falls outside the rejection region (or p-value >\n",
        "𝛼\n",
        "α), we fail to reject the null hypothesis.\n",
        "\n",
        "Choosing the right significance level depends on the context of the problem. In fields like medicine or aerospace, a very low\n",
        "𝛼\n",
        "α (such as 0.01) is often chosen to minimize the chance of false positives, while in exploratory research, a higher\n",
        "𝛼\n",
        "α might be acceptable.\n",
        "\n",
        "By setting\n",
        "𝛼\n",
        "α before conducting the test, researchers control the strictness of the decision rule and ensure that the conclusions are not based on random chance alone.\n",
        "\n",
        "4.  What are Type I and Type II errors? Give examples of each.\n",
        "\n",
        "-> In hypothesis testing, Type I and Type II errors describe possible mistakes when making decisions from sample data.\n",
        "\n",
        "Type I Error (False Positive)\n",
        "A Type I error occurs when we reject the null hypothesis (\n",
        "𝐻\n",
        "0\n",
        "H\n",
        "0\n",
        "​\n",
        " ) even though it is actually true. It’s like sounding a false alarm — concluding there is an effect when none exists. The probability of a Type I error equals the significance level (\n",
        "𝛼\n",
        "α) chosen for the test.\n",
        "Example: In a medical test,\n",
        "𝐻\n",
        "0\n",
        "H\n",
        "0\n",
        "​\n",
        "  states that the patient does not have a disease. If the test says the patient has the disease when they are actually healthy, it’s a Type I error. This can lead to unnecessary treatments, stress, and costs.\n",
        "\n",
        "Type II Error (False Negative)\n",
        "A Type II error occurs when we fail to reject the null hypothesis (\n",
        "𝐻\n",
        "0\n",
        "H\n",
        "0\n",
        "​\n",
        " ) even though it is false. It’s like missing an alarm — concluding there is no effect when there is one. The probability of a Type II error is\n",
        "𝛽\n",
        "β, and\n",
        "1\n",
        "−\n",
        "𝛽\n",
        "1−β is called the power of the test.\n",
        "Example: In the same medical test,\n",
        "𝐻\n",
        "0\n",
        "H\n",
        "0\n",
        "​\n",
        "  states that the patient does not have the disease. If the test says the patient is healthy when they actually have the disease, it’s a Type II error. This can result in delayed treatment and worsening of the condition.\n",
        "\n",
        "5.  What is the difference between a Z-test and a T-test? Explain when to use each.\n",
        "\n",
        "-> A Z-test and a T-test are both statistical tests used to determine whether there is a significant difference between sample statistics and population parameters, but they are used in different situations.\n",
        "\n",
        "Z-test\n",
        "A Z-test is used when the population standard deviation is known, and the sample size is large (typically\n",
        "𝑛\n",
        ">\n",
        "30\n",
        "n>30). It assumes that the population data follows a normal distribution or that the sample size is large enough for the Central Limit Theorem to apply. Z-tests are often used in quality control, large-scale surveys, or whenever precise population parameters are available.\n",
        "Example: Testing if the average height of 1,000 students is different from the national average when the population standard deviation is known.\n",
        "\n",
        "T-test\n",
        "A T-test is used when the population standard deviation is unknown, and the sample size is small (typically\n",
        "𝑛\n",
        "≤\n",
        "30\n",
        "n≤30). Instead of using the Z-distribution, it uses the t-distribution, which accounts for extra uncertainty due to estimating the standard deviation from the sample. T-tests are common in research with smaller datasets or when population parameters are unavailable.\n",
        "Example: Testing if the average weight of 15 randomly selected apples differs from the expected weight when the population standard deviation is unknown.\n",
        "\n",
        "When to use each\n",
        "Use a Z-test for large samples with known population standard deviation.\n",
        "Use a T-test for small samples or when the population standard deviation is unknown.\n",
        "\n",
        "6. Write a Python program to generate a binomial distribution with n=10 and p=0.5, then plot its histogram.  (Include your Python code and output in the code box below.) Hint: Generate random number using random function.\n",
        "\n",
        "->"
      ],
      "metadata": {
        "id": "vtUdA8U4nYrT"
      }
    },
    {
      "cell_type": "code",
      "source": [
        "import numpy as np\n",
        "import matplotlib.pyplot as plt\n",
        "\n",
        "# Parameters\n",
        "n = 10       # number of trials\n",
        "p = 0.5      # probability of success\n",
        "size = 1000  # number of random samples\n",
        "\n",
        "# Generate binomial distribution\n",
        "data = np.random.binomial(n, p, size)\n",
        "\n",
        "# Print first 10 values to see the data\n",
        "print(\"First 10 samples from binomial distribution:\", data[:10])\n",
        "\n",
        "# Plot histogram\n",
        "plt.hist(data, bins=range(n+2), edgecolor='black', align='left')\n",
        "plt.title(f'Binomial Distribution (n={n}, p={p})')\n",
        "plt.xlabel('Number of Successes')\n",
        "plt.ylabel('Frequency')\n",
        "plt.show()\n"
      ],
      "metadata": {
        "colab": {
          "base_uri": "https://localhost:8080/",
          "height": 489
        },
        "id": "wIoKocJKrbVf",
        "outputId": "c65c55e9-fd77-4dec-e0aa-4625ba5a900a"
      },
      "execution_count": 1,
      "outputs": [
        {
          "output_type": "stream",
          "name": "stdout",
          "text": [
            "First 10 samples from binomial distribution: [6 4 7 6 8 5 7 7 5 2]\n"
          ]
        },
        {
          "output_type": "display_data",
          "data": {
            "text/plain": [
              "<Figure size 640x480 with 1 Axes>"
            ],
            "image/png": "[encoded data removed]"
          },
          "metadata": {}
        }
      ]
    },
    {
      "cell_type": "markdown",
      "source": [
        "7. Implement hypothesis testing using Z-statistics for a sample dataset in Python. Show the Python code and interpret the results. sample_data = [49.1, 50.2, 51.0, 48.7, 50.5, 49.8, 50.3, 50.7, 50.2, 49.6,                         50.1, 49.9, 50.8, 50.4, 48.9, 50.6, 50.0, 49.7, 50.2, 49.5,                         50.1, 50.3, 50.4, 50.5, 50.0, 50.7, 49.3, 49.8, 50.2, 50.9,                         50.3, 50.4, 50.0, 49.7, 50.5, 49.9]"
      ],
      "metadata": {
        "id": "NfufwQcOrkBk"
      }
    },
    {
      "cell_type": "code",
      "source": [
        "import numpy as np\n",
        "from scipy.stats import norm\n",
        "\n",
        "# Sample data\n",
        "sample_data = [\n",
        "    49.1, 50.2, 51.0, 48.7, 50.5, 49.8, 50.3, 50.7, 50.2, 49.6,\n",
        "    50.1, 49.9, 50.8, 50.4, 48.9, 50.6, 50.0, 49.7, 50.2, 49.5,\n",
        "    50.1, 50.3, 50.4, 50.5, 50.0, 50.7, 49.3, 49.8, 50.2, 50.9,\n",
        "    50.3, 50.4, 50.0, 49.7, 50.5, 49.9\n",
        "]\n",
        "\n",
        "# Hypothesis parameters\n",
        "mu_0 = 50        # population mean under H0\n",
        "sigma = 1        # population standard deviation\n",
        "alpha = 0.05     # significance level\n",
        "\n",
        "# Calculate sample mean\n",
        "sample_mean = np.mean(sample_data)\n",
        "n = len(sample_data)\n",
        "\n",
        "# Calculate Z-statistic\n",
        "z_stat = (sample_mean - mu_0) / (sigma / np.sqrt(n))\n",
        "\n",
        "# Two-tailed critical value\n",
        "z_critical = norm.ppf(1 - alpha/2)\n",
        "\n",
        "# P-value\n",
        "p_value = 2 * (1 - norm.cdf(abs(z_stat)))\n",
        "\n",
        "# Output results\n",
        "print(\"Sample Mean:\", sample_mean)\n",
        "print(\"Z-statistic:\", z_stat)\n",
        "print(\"Z-critical value:\", z_critical)\n",
        "print(\"P-value:\", p_value)\n",
        "\n",
        "# Interpretation\n",
        "if abs(z_stat) > z_critical:\n",
        "    print(\"Reject the null hypothesis (significant difference).\")\n",
        "else:\n",
        "    print(\"Fail to reject the null hypothesis (no significant difference).\")\n"
      ],
      "metadata": {
        "colab": {
          "base_uri": "https://localhost:8080/"
        },
        "id": "CjEqUsHsruq4",
        "outputId": "e240ff25-c294-458a-cdb7-042a3ce6c6b0"
      },
      "execution_count": 2,
      "outputs": [
        {
          "output_type": "stream",
          "name": "stdout",
          "text": [
            "Sample Mean: 50.08888888888889\n",
            "Z-statistic: 0.5333333333333314\n",
            "Z-critical value: 1.959963984540054\n",
            "P-value: 0.5938028572077036\n",
            "Fail to reject the null hypothesis (no significant difference).\n"
          ]
        }
      ]
    },
    {
      "cell_type": "markdown",
      "source": [
        "8. : Write a Python script to simulate data from a normal distribution and calculate the 95% confidence interval for its mean. Plot the data using Matplotlib."
      ],
      "metadata": {
        "id": "ypf8nGzrrwlR"
      }
    },
    {
      "cell_type": "code",
      "source": [
        "import numpy as np\n",
        "import matplotlib.pyplot as plt\n",
        "import scipy.stats as stats\n",
        "\n",
        "# Step 1: Simulate data\n",
        "np.random.seed(42)  # For reproducibility\n",
        "mean_true = 50\n",
        "std_true = 5\n",
        "n = 1000\n",
        "data = np.random.normal(mean_true, std_true, n)\n",
        "\n",
        "# Step 2: Calculate sample mean and standard error\n",
        "mean_sample = np.mean(data)\n",
        "std_sample = np.std(data, ddof=1)\n",
        "standard_error = std_sample / np.sqrt(n)\n",
        "\n",
        "# Step 3: Calculate 95% confidence interval\n",
        "confidence_level = 0.95\n",
        "z_score = stats.norm.ppf((1 + confidence_level) / 2)\n",
        "margin_of_error = z_score * standard_error\n",
        "ci_lower = mean_sample - margin_of_error\n",
        "ci_upper = mean_sample + margin_of_error\n",
        "\n",
        "print(f\"Sample Mean: {mean_sample:.2f}\")\n",
        "print(f\"95% Confidence Interval: ({ci_lower:.2f}, {ci_upper:.2f})\")\n",
        "\n",
        "# Step 4: Plot histogram of data\n",
        "plt.hist(data, bins=30, color='skyblue', edgecolor='black')\n",
        "plt.axvline(mean_sample, color='red', linestyle='--', label=f\"Mean = {mean_sample:.2f}\")\n",
        "plt.axvline(ci_lower, color='green', linestyle='--', label=f\"Lower 95% CI = {ci_lower:.2f}\")\n",
        "plt.axvline(ci_upper, color='green', linestyle='--', label=f\"Upper 95% CI = {ci_upper:.2f}\")\n",
        "plt.title('Normal Distribution with 95% Confidence Interval')\n",
        "plt.xlabel('Value')\n",
        "plt.ylabel('Frequency')\n",
        "plt.legend()\n",
        "plt.show()\n"
      ],
      "metadata": {
        "colab": {
          "base_uri": "https://localhost:8080/",
          "height": 507
        },
        "id": "72yWuOpqr1H-",
        "outputId": "bee0f74b-d014-439f-ef1d-643cdc3e0ab1"
      },
      "execution_count": 4,
      "outputs": [
        {
          "output_type": "stream",
          "name": "stdout",
          "text": [
            "Sample Mean: 50.10\n",
            "95% Confidence Interval: (49.79, 50.40)\n"
          ]
        },
        {
          "output_type": "display_data",
          "data": {
            "text/plain": [
              "<Figure size 640x480 with 1 Axes>"
            ],
            "image/png": "[encoded data removed]"
          },
          "metadata": {}
        }
      ]
    },
    {
      "cell_type": "markdown",
      "source": [
        "9. Write a Python function to calculate the Z-scores from a dataset and visualize the standardized data using a histogram. Explain what the Z-scores represent in terms of standard deviations from the mean."
      ],
      "metadata": {
        "id": "bVC0L1XCsE_s"
      }
    },
    {
      "cell_type": "code",
      "source": [
        "import numpy as np\n",
        "import matplotlib.pyplot as plt\n",
        "\n",
        "# Function to calculate Z-scores\n",
        "def calculate_z_scores(data):\n",
        "    mean = np.mean(data)\n",
        "    std_dev = np.std(data, ddof=1)  # Sample standard deviation\n",
        "    z_scores = (data - mean) / std_dev\n",
        "    return z_scores\n",
        "\n",
        "# Sample dataset\n",
        "data = np.array([49.1, 50.2, 51.0, 48.7, 50.5, 49.8, 50.3, 50.7, 50.2, 49.6,\n",
        "                 50.1, 49.9, 50.8, 50.4, 48.9, 50.6, 50.0, 49.7, 50.2, 49.5,\n",
        "                 50.1, 50.3, 50.4, 50.5, 50.0, 50.7, 49.3, 49.8, 50.2, 50.9,\n",
        "                 50.3, 50.4, 50.0, 49.7, 50.5, 49.9])\n",
        "\n",
        "# Calculate Z-scores\n",
        "z_scores = calculate_z_scores(data)\n",
        "\n",
        "# Print first few Z-scores\n",
        "print(\"First 5 Z-scores:\", z_scores[:5])\n",
        "\n",
        "# Plot histogram of Z-scores\n",
        "plt.hist(z_scores, bins=10, color='skyblue', edgecolor='black')\n",
        "plt.title(\"Histogram of Z-scores\")\n",
        "plt.xlabel(\"Z-score\")\n",
        "plt.ylabel(\"Frequency\")\n",
        "plt.axvline(0, color='red', linestyle='--', label=\"Mean (0)\")\n",
        "plt.legend()\n",
        "plt.show()\n"
      ],
      "metadata": {
        "colab": {
          "base_uri": "https://localhost:8080/",
          "height": 489
        },
        "id": "VGzxPzLZsIll",
        "outputId": "a76376a1-e97f-48ae-90af-f380aa54a18b"
      },
      "execution_count": 5,
      "outputs": [
        {
          "output_type": "stream",
          "name": "stdout",
          "text": [
            "First 5 Z-scores: [-1.84309202  0.20708899  1.69812972 -2.58861239  0.76622927]\n"
          ]
        },
        {
          "output_type": "display_data",
          "data": {
            "text/plain": [
              "<Figure size 640x480 with 1 Axes>"
            ],
            "image/png": "[encoded data removed]"
          },
          "metadata": {}
        }
      ]
    }
  ]
}